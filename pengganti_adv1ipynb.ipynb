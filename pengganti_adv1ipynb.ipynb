{
  "nbformat": 4,
  "nbformat_minor": 0,
  "metadata": {
    "colab": {
      "provenance": []
    },
    "kernelspec": {
      "name": "python3",
      "display_name": "Python 3"
    },
    "language_info": {
      "name": "python"
    }
  },
  "cells": [
    {
      "cell_type": "markdown",
      "source": [
        "BUSSINES UNDERSTANDING"
      ],
      "metadata": {
        "id": "4o6M9M8RSwFi"
      }
    },
    {
      "cell_type": "markdown",
      "source": [
        "Di era digital, laptop menjadi perangkat esensial untuk berbagai kebutuhan, mulai dari pendidikan, bisnis, hingga hiburan. Harga laptop dipengaruhi oleh berbagai faktor seperti spesifikasi perangkat keras (CPU, RAM, penyimpanan), merek, tahun rilis, dan fitur tambahan. Prediksi harga laptop dapat membantu konsumen membuat keputusan yang lebih baik dan membantu produsen atau retailer dalam strategi penetapan harga"
      ],
      "metadata": {
        "id": "ZJ38WTKUS1E5"
      }
    },
    {
      "cell_type": "markdown",
      "source": [
        "# Bussines objective"
      ],
      "metadata": {
        "id": "aN_b0GjHQiIr"
      }
    },
    {
      "cell_type": "markdown",
      "source": [
        "Tujuan bisnis dari proyek prediksi harga laptop menggunakan dataset yang telah dibersihkan adalah untuk menciptakan model prediktif yang dapat memperkirakan harga laptop berdasarkan spesifikasi teknisnya, seperti jenis prosesor, ukuran RAM, kapasitas penyimpanan, dan merek. Model ini akan membantu konsumen dalam membuat keputusan pembelian yang lebih tepat dan memberikan produsen serta pengecer wawasan berharga untuk menetapkan strategi harga yang kompetitif."
      ],
      "metadata": {
        "id": "EeG4PUiJQl_4"
      }
    },
    {
      "cell_type": "markdown",
      "source": [
        "# Asses situation"
      ],
      "metadata": {
        "id": "QsFij8V8Rq67"
      }
    },
    {
      "cell_type": "markdown",
      "source": [
        "- Ketersediaan Data: Dataset telah dibersihkan dan mencakup spesifikasi utama laptop seperti merek, prosesor, RAM, GPU, penyimpanan, layar, dan harga.\n",
        "- Faktor Eksternal: Tren pasar, nilai tukar mata uang, persaingan merek, dan kebijakan pemerintah dapat mempengaruhi harga laptop.\n",
        "- Tantangan: Kualitas data, risiko overfitting model, serta variabilitas harga berdasarkan promo atau lokasi penjualan.\n",
        "- Kebutuhan Bisnis & Teknologi: Model prediksi harus akurat dan bermanfaat bagi konsumen, retailer, serta produsen, dengan pendekatan Machine Learning yang sesuai."
      ],
      "metadata": {
        "id": "uN7oazk5RwiZ"
      }
    },
    {
      "cell_type": "markdown",
      "source": [
        "# Data mining goals"
      ],
      "metadata": {
        "id": "fFpBq4QoSNpc"
      }
    },
    {
      "cell_type": "markdown",
      "source": [
        "Membangun model prediksi harga laptop berdasarkan spesifikasi teknis untuk meningkatkan akurasi estimasi harga. Mengidentifikasi faktor utama yang mempengaruhi harga, seperti prosesor, RAM, penyimpanan, dan merek. Menganalisis pola dan tren pasar guna memberikan insight bagi konsumen, retailer, dan produsen dalam strategi penetapan harga dan pengambilan keputusan bisnis."
      ],
      "metadata": {
        "id": "9bJYJrkDSo1T"
      }
    },
    {
      "cell_type": "markdown",
      "source": [
        "Poject plan"
      ],
      "metadata": {
        "id": "SSMN5i0jTPAe"
      }
    },
    {
      "cell_type": "markdown",
      "source": [
        "Mengumpulkan dan memahami dataset, lalu membersihkannya dengan menangani data hilang dan encoding fitur. Menganalisis korelasi spesifikasi laptop dengan harga sebelum membangun model Machine Learning seperti Regresi Linear atau Random Forest. Mengevaluasi model dengan metrik akurasi, mengoptimalkan hyperparameter, dan memilih model terbaik. Setelah itu, model diterapkan dalam bentuk API atau dashboard untuk mendukung strategi bisnis. Terakhir, dilakukan monitoring dan pembaruan berkala agar tetap relevan dengan tren pasar."
      ],
      "metadata": {
        "id": "FWSpKBb5TRl4"
      }
    }
  ]
}